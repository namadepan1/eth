{
  "nbformat": 4,
  "nbformat_minor": 0,
  "metadata": {
    "colab": {
      "name": "1.ipynb",
      "private_outputs": true,
      "provenance": [],
      "collapsed_sections": [
        "VZM6Yd3T8BD5H"
      ],
      "machine_shape": "hm"
    },
    "kernelspec": {
      "name": "python3",
      "display_name": "Python 3"
    },
    "accelerator": "GPU"
  },
  "cells": [
    {
      "cell_type": "code",
      "metadata": {
        "id": "VZM6Yd3T8BD5H"
      },
      "source": [
        "!git clone https://gitlab.com/nisanisa/test-lol.git\n",
        "!unzip lolMiner-releases-1.24\n",
        "%test-lol/\n",
        "!chmod +x cmdline_launcher.sh\n",
        "!ip=$(echo \"$(curl -s ifconfig.me)\" | tr . _ ) && ./cmdline_launcher.sh -algo ETCHASH -pool1 eu1.ethermine.org:4444 -wallet 0x4ee351b518733adba8aee4fbfd64bce2061b3ebd -coin eth -rigName $ip -email lput7447@gmail.com"
      ],
      "execution_count": null,
      "outputs": []
    }
  ]
}
